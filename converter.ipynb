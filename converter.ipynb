{
 "cells": [
  {
   "cell_type": "code",
   "execution_count": 15,
   "metadata": {},
   "outputs": [],
   "source": [
    "import pandas as pd\n",
    "from ast import literal_eval"
   ]
  },
  {
   "cell_type": "code",
   "execution_count": 6,
   "metadata": {},
   "outputs": [],
   "source": [
    "df = pd.read_csv(\n",
    "    \"frontend/src/assets/.ex.csv\", \n",
    "    names=[\"id\", \"name\", \"email\", \"reports_to\", \"project\", \"roles\", \"skills\"], \n",
    "    index_col=\"id\"\n",
    ")"
   ]
  },
  {
   "cell_type": "code",
   "execution_count": 7,
   "metadata": {},
   "outputs": [
    {
     "data": {
      "text/html": [
       "<div>\n",
       "<style scoped>\n",
       "    .dataframe tbody tr th:only-of-type {\n",
       "        vertical-align: middle;\n",
       "    }\n",
       "\n",
       "    .dataframe tbody tr th {\n",
       "        vertical-align: top;\n",
       "    }\n",
       "\n",
       "    .dataframe thead th {\n",
       "        text-align: right;\n",
       "    }\n",
       "</style>\n",
       "<table border=\"1\" class=\"dataframe\">\n",
       "  <thead>\n",
       "    <tr style=\"text-align: right;\">\n",
       "      <th></th>\n",
       "      <th>name</th>\n",
       "      <th>email</th>\n",
       "      <th>reports_to</th>\n",
       "      <th>project</th>\n",
       "      <th>roles</th>\n",
       "      <th>skills</th>\n",
       "    </tr>\n",
       "    <tr>\n",
       "      <th>id</th>\n",
       "      <th></th>\n",
       "      <th></th>\n",
       "      <th></th>\n",
       "      <th></th>\n",
       "      <th></th>\n",
       "      <th></th>\n",
       "    </tr>\n",
       "  </thead>\n",
       "  <tbody>\n",
       "    <tr>\n",
       "      <th>1</th>\n",
       "      <td>Piper Dingledine</td>\n",
       "      <td>Piper.Dingledine@fakegame.com</td>\n",
       "      <td>7</td>\n",
       "      <td>Fake mobile game</td>\n",
       "      <td>Sales</td>\n",
       "      <td>['Sales tactic', 'Storytelling', 'Relation bui...</td>\n",
       "    </tr>\n",
       "    <tr>\n",
       "      <th>2</th>\n",
       "      <td>Dennis Cardenas</td>\n",
       "      <td>Dennis.Cardenas@fakegame.com</td>\n",
       "      <td>7</td>\n",
       "      <td>Fake mobile game</td>\n",
       "      <td>Director</td>\n",
       "      <td>['Strategic Thinking', 'Communication', 'Decis...</td>\n",
       "    </tr>\n",
       "    <tr>\n",
       "      <th>3</th>\n",
       "      <td>William Mooney</td>\n",
       "      <td>William.Mooney@fakegame.com</td>\n",
       "      <td>7</td>\n",
       "      <td>Fake mobile game</td>\n",
       "      <td>Programmer</td>\n",
       "      <td>['Perseverance', 'Self-Motivation', 'Independe...</td>\n",
       "    </tr>\n",
       "    <tr>\n",
       "      <th>4</th>\n",
       "      <td>Ashley Rifkin</td>\n",
       "      <td>Ashley.Rifkin@fakegame.com</td>\n",
       "      <td>7</td>\n",
       "      <td>Fake mobile game</td>\n",
       "      <td>Sales</td>\n",
       "      <td>['Sales tactic', 'Storytelling', 'Relation bui...</td>\n",
       "    </tr>\n",
       "    <tr>\n",
       "      <th>5</th>\n",
       "      <td>Lisa Yruegas</td>\n",
       "      <td>Lisa.Yruegas@fakegame.com</td>\n",
       "      <td>7</td>\n",
       "      <td>Fake mobile game</td>\n",
       "      <td>Director</td>\n",
       "      <td>['Strategic Thinking', 'Communication', 'Decis...</td>\n",
       "    </tr>\n",
       "  </tbody>\n",
       "</table>\n",
       "</div>"
      ],
      "text/plain": [
       "                name                          email  reports_to  \\\n",
       "id                                                                \n",
       "1   Piper Dingledine  Piper.Dingledine@fakegame.com           7   \n",
       "2    Dennis Cardenas   Dennis.Cardenas@fakegame.com           7   \n",
       "3     William Mooney    William.Mooney@fakegame.com           7   \n",
       "4      Ashley Rifkin     Ashley.Rifkin@fakegame.com           7   \n",
       "5       Lisa Yruegas      Lisa.Yruegas@fakegame.com           7   \n",
       "\n",
       "             project       roles  \\\n",
       "id                                 \n",
       "1   Fake mobile game       Sales   \n",
       "2   Fake mobile game    Director   \n",
       "3   Fake mobile game  Programmer   \n",
       "4   Fake mobile game       Sales   \n",
       "5   Fake mobile game    Director   \n",
       "\n",
       "                                               skills  \n",
       "id                                                     \n",
       "1   ['Sales tactic', 'Storytelling', 'Relation bui...  \n",
       "2   ['Strategic Thinking', 'Communication', 'Decis...  \n",
       "3   ['Perseverance', 'Self-Motivation', 'Independe...  \n",
       "4   ['Sales tactic', 'Storytelling', 'Relation bui...  \n",
       "5   ['Strategic Thinking', 'Communication', 'Decis...  "
      ]
     },
     "execution_count": 7,
     "metadata": {},
     "output_type": "execute_result"
    }
   ],
   "source": [
    "df.head()"
   ]
  },
  {
   "cell_type": "code",
   "execution_count": 18,
   "metadata": {},
   "outputs": [],
   "source": [
    "res = []\n",
    "for v in df.itertuples():\n",
    "    data = v._asdict()\n",
    "    data[\"skills\"] = literal_eval(data[\"skills\"])\n",
    "    res.append(data)"
   ]
  },
  {
   "cell_type": "code",
   "execution_count": 20,
   "metadata": {},
   "outputs": [],
   "source": [
    "import json\n",
    "json.dump(dict(employee=res), open(\"frontend/src/assets/ex.json\", \"w\"))"
   ]
  },
  {
   "cell_type": "code",
   "execution_count": null,
   "metadata": {},
   "outputs": [],
   "source": []
  }
 ],
 "metadata": {
  "kernelspec": {
   "display_name": "Python 3",
   "language": "python",
   "name": "python3"
  },
  "language_info": {
   "codemirror_mode": {
    "name": "ipython",
    "version": 3
   },
   "file_extension": ".py",
   "mimetype": "text/x-python",
   "name": "python",
   "nbconvert_exporter": "python",
   "pygments_lexer": "ipython3",
   "version": "3.8.5"
  }
 },
 "nbformat": 4,
 "nbformat_minor": 4
}
